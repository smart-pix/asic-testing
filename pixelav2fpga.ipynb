{
 "cells": [
  {
   "cell_type": "markdown",
   "metadata": {},
   "source": [
    "Goal is to translate data from Pixelav (which comes in the form of 8x32 array) into something the board can understand (string of bits 00, 01, 10, 11 that corresponds to different charge thresholds). Then want to map it into array1.\n",
    "\\\n",
    "\\\n",
    "**questions:**\n",
    "- what are the different arrays 0,1,2 / what are we planning on filling them with \n",
    "- how do you take a time stamp? i don't actually know what pixelav is putting out so i don't know where that comes from"
   ]
  },
  {
   "cell_type": "markdown",
   "metadata": {},
   "source": [
    "pixelav: 0:3 y, 0:15 x (8x32 --> 256 pixels). then each pixel goes to 2 bits which classify its charge. "
   ]
  },
  {
   "cell_type": "code",
   "execution_count": 1,
   "metadata": {},
   "outputs": [],
   "source": [
    "import numpy as np\n",
    "import matplotlib.pyplot as plt"
   ]
  },
  {
   "cell_type": "code",
   "execution_count": 2,
   "metadata": {},
   "outputs": [],
   "source": [
    "# pretend pixelav output, based on figure 5 from the testing document\n",
    "# this will be replaced by an actual pixelav file, but currently there is a size mismatch (we want 8x32 for the chip and the pixelav .out files give\n",
    "# 13x21)... this is the next thing to work out. \n",
    "ideal_big_row = 4\n",
    "ideal_big_col = 16\n",
    "empty_array = np.zeros((ideal_big_row, ideal_big_col))\n",
    "final_size = np.zeros((ideal_big_row*2, ideal_big_col*2))\n",
    "count = np.arange(0,ideal_big_col*ideal_big_row,1)\n",
    "pixels = []\n",
    "\n",
    "for pixel in range(len(count)):\n",
    "    start = 0 + (pixel*4)\n",
    "    mini_array = np.array([[start+2, start], [start+3, start+1]])\n",
    "    pixels.append(mini_array)\n",
    "mini_array_idx = 0\n",
    "for row in range(ideal_big_row):\n",
    "    for col in range(ideal_big_col):\n",
    "        row_start = np.abs(6-(4 - 1 - row)*2)\n",
    "        col_start = (16 - 1 - col)*2\n",
    "        final_size[row_start:row_start+2, col_start:col_start+2] = pixels[mini_array_idx]\n",
    "        mini_array_idx += 1\n",
    "\n",
    "test_vals = np.random.uniform(low = 400, high = 14000, size=(ideal_big_row*2, ideal_big_col*2))\n",
    "low = 400\n",
    "thresh1 = 1600\n",
    "thresh2 = 2400"
   ]
  },
  {
   "cell_type": "code",
   "execution_count": 3,
   "metadata": {},
   "outputs": [],
   "source": [
    "# will do this with a real parquet file soon but first just doing one 13x21 array with a fake cluster\n",
    "real_pixelav_row = 13\n",
    "real_pixelav_col = 21\n",
    "\n",
    "real_pixelav_out = np.zeros((real_pixelav_row, real_pixelav_col))\n",
    "\n",
    "# making a fake cluster\n",
    "cluster_yend = 7\n",
    "cluster_ystart = 3\n",
    "cluster_xstart = 10\n",
    "cluster_xend = 20\n",
    "real_test_vals = np.random.uniform(low = 400, high = 14000, size = ((cluster_yend-cluster_ystart)*(cluster_xend-cluster_xstart),))\n",
    "\n",
    "index = 0\n",
    "for row in range(real_pixelav_row):\n",
    "    for col in range(real_pixelav_col):\n",
    "        if cluster_ystart <= row < cluster_yend and cluster_xstart <= col < cluster_xend:\n",
    "            if index < len(real_test_vals):\n",
    "                real_pixelav_out[row, col] = real_test_vals[index]\n",
    "                index += 1"
   ]
  },
  {
   "cell_type": "markdown",
   "metadata": {},
   "source": [
    "**mapping the (fake) pixelav output onto the ideal size (13x21-->8x32).** there are a couple ways to do this. we could take all the non-zero cluster information and just stick it in the center of the 8x32 array, but we aren't sure yet how/if this translation would affect the ultimate results. for now, i'm going to just truncate the values from the top and bottom rows (2 from the top and 3 from the bottom) and pad the extra columns of the pixelav output with zeros so that it fits into the 8x32 framework. i will also work in some \"overflow\" in case we accidentally chop off a part of a cluster, where i will add any data from the \"chopped\" pixels to the first row that we keep"
   ]
  },
  {
   "cell_type": "code",
   "execution_count": 4,
   "metadata": {},
   "outputs": [
    {
     "name": "stdout",
     "output_type": "stream",
     "text": [
      "Desired array size: (8, 32) \n",
      "Current pixelav output size: (13, 21)\n",
      "Final pixelav data size: (8, 32)\n"
     ]
    }
   ],
   "source": [
    "print(f\"Desired array size: {np.shape(final_size)} \\nCurrent pixelav output size: {np.shape(real_pixelav_out)}\")\n",
    "\n",
    "# chopping the rows to fit in 8 and ensuring overflow\n",
    "chop_start = 1\n",
    "chop_stop = 9\n",
    "overflow_top = np.zeros(real_pixelav_col)\n",
    "overflow_bottom = np.zeros(real_pixelav_col)\n",
    "for col in range(real_pixelav_col):\n",
    "    for row in range(chop_start):\n",
    "        overflow_top[col] += real_pixelav_out[row, col]\n",
    "    for row in range(chop_stop + 1, real_pixelav_row):\n",
    "        overflow_bottom[col] += real_pixelav_out[row, col]\n",
    "\n",
    "real_pixelav_out[chop_start, :] += overflow_top\n",
    "real_pixelav_out[chop_stop, :] += overflow_bottom \n",
    "chop_pixelav = real_pixelav_out[chop_start:chop_stop,:]\n",
    "\n",
    "# padding with extra zeros to give 32 columns\n",
    "padding = np.zeros((np.shape(final_size)[0], np.shape(final_size)[1]-np.shape(chop_pixelav)[1]))\n",
    "match_pixelav = np.concatenate((chop_pixelav, padding), axis=1)\n",
    "\n",
    "print(f\"Final pixelav data size: {np.shape(match_pixelav)}\")"
   ]
  },
  {
   "cell_type": "code",
   "execution_count": 14,
   "metadata": {},
   "outputs": [],
   "source": [
    "pixel_data = []\n",
    "for row in reversed(range(8)):\n",
    "    for column in range(32):\n",
    "        charge = match_pixelav[row, column]\n",
    "        if charge <= low: \n",
    "            label = \"00\"\n",
    "        elif low < charge < thresh1:\n",
    "            label = \"01\"\n",
    "        elif thresh1 < charge < thresh2:\n",
    "            label = \"10\"\n",
    "        else:\n",
    "            label = \"11\"\n",
    "        pixel_data.append(label)\n",
    "bit_string = ''.join(reversed(pixel_data))"
   ]
  },
  {
   "cell_type": "code",
   "execution_count": 15,
   "metadata": {},
   "outputs": [],
   "source": [
    "ar1row = 256\n",
    "ar1col = 16\n",
    "array1 = np.zeros((ar1row,ar1col))\n",
    "len_shiftreg = (67+1)*16+4\n",
    "len_bits = len(bit_string)\n",
    "len_dnn = (255-100)*16+4*3\n",
    "\n",
    "# fake numbers for shift register and dnn parts of the array\n",
    "shiftreg = [0]*len_shiftreg\n",
    "dnn = [0]*len_dnn\n",
    "\n",
    "array1_flat = array1.flatten()\n",
    "\n",
    "i = 0\n",
    "for row in range(ar1row):\n",
    "    for col in range(ar1col):\n",
    "        if i < len_shiftreg:\n",
    "            array1[row,col] = shiftreg[i]\n",
    "        elif len_shiftreg <= i < len_shiftreg + len_bits:\n",
    "            array1[row, col] = bit_string[i - len_shiftreg]\n",
    "        elif i >= len_shiftreg+len_bits:\n",
    "            array1[row, col] = dnn[i - (len_shiftreg+len_bits)]\n",
    "        i+=1"
   ]
  },
  {
   "cell_type": "code",
   "execution_count": null,
   "metadata": {},
   "outputs": [],
   "source": []
  }
 ],
 "metadata": {
  "kernelspec": {
   "display_name": "Python 3",
   "language": "python",
   "name": "python3"
  },
  "language_info": {
   "codemirror_mode": {
    "name": "ipython",
    "version": 3
   },
   "file_extension": ".py",
   "mimetype": "text/x-python",
   "name": "python",
   "nbconvert_exporter": "python",
   "pygments_lexer": "ipython3",
   "version": "3.9.18"
  }
 },
 "nbformat": 4,
 "nbformat_minor": 2
}
