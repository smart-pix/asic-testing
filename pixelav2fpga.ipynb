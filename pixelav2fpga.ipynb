{
 "cells": [
  {
   "cell_type": "markdown",
   "metadata": {},
   "source": [
    "Goal is to translate data from Pixelav (which comes in the form of 8x32 array) into something the board can understand (string of bits 00, 01, 10, 11 that corresponds to different charge thresholds). Then want to map it into array1.\n",
    "\\\n",
    "\\\n",
    "**questions:**\n",
    "- what are the different arrays 0,1,2 / what are we planning on filling them with \n",
    "- how do you take a time stamp? i don't actually know what pixelav is putting out so i don't know where that comes from"
   ]
  },
  {
   "cell_type": "markdown",
   "metadata": {},
   "source": [
    "pixelav: 0:3 y, 0:15 x (8x32 --> 256 pixels). then each pixel goes to 2 bits which classify its charge. "
   ]
  },
  {
   "cell_type": "code",
   "execution_count": 2,
   "metadata": {},
   "outputs": [],
   "source": [
    "import numpy as np\n",
    "import matplotlib.pyplot as plt"
   ]
  },
  {
   "cell_type": "code",
   "execution_count": 3,
   "metadata": {},
   "outputs": [],
   "source": [
    "# pretend pixelav output, based on figure 5 from the testing document\n",
    "# this will be replaced by an actual pixelav file, but currently there is a size mismatch (we want 8x32 for the chip and the pixelav .out files give\n",
    "# 13x21)... this is the next thing to work out. \n",
    "empty_array = np.zeros((4, 16))\n",
    "pixelav = np.zeros((8, 32))\n",
    "count = np.arange(0,4*16,1)\n",
    "pixels = []\n",
    "\n",
    "for pixel in range(len(count)):\n",
    "    start = 0 + (pixel*4)\n",
    "    mini_array = np.array([[start+2, start], [start+3, start+1]])\n",
    "    pixels.append(mini_array)\n",
    "mini_array_idx = 0\n",
    "for row in range(4):\n",
    "    for col in range(16):\n",
    "        row_start = np.abs(6-(4 - 1 - row)*2)\n",
    "        col_start = (16 - 1 - col)*2\n",
    "        pixelav[row_start:row_start+2, col_start:col_start+2] = pixels[mini_array_idx]\n",
    "        mini_array_idx += 1\n",
    "\n",
    "test_vals = np.random.uniform(low = 400, high = 14000, size=(8,32))\n",
    "low = 400\n",
    "thresh1 = 1600\n",
    "thresh2 = 2400\n"
   ]
  },
  {
   "cell_type": "code",
   "execution_count": 4,
   "metadata": {},
   "outputs": [],
   "source": [
    "pixel_data = {}\n",
    "for row in reversed(range(8)):\n",
    "    for column in range(32):\n",
    "        charge = test_vals[row, column]\n",
    "        pixel = int(pixelav[row, column])\n",
    "        if charge <= low: \n",
    "            label = \"00\"\n",
    "        elif low < charge < thresh1:\n",
    "            label = \"01\"\n",
    "        elif thresh1 < charge < thresh2:\n",
    "            label = \"10\"\n",
    "        else:\n",
    "            label = \"11\"\n",
    "        pixel_data[pixel] = {\n",
    "            'charge': charge,\n",
    "            'label': label,\n",
    "            'row': row,\n",
    "            'column': column\n",
    "        }\n",
    "\n",
    "big_row_start = 0\n",
    "bit_string_list = []\n",
    "\n",
    "while big_row_start < 8:\n",
    "    for column in reversed(range(32)):\n",
    "        for row in range(2):\n",
    "            overall_row = row + big_row_start\n",
    "            pixel = pixelav[overall_row, column]\n",
    "            bit_string_list.append(pixel_data[pixel]['label'])\n",
    "    big_row_start +=2\n",
    "bit_string = ''.join(reversed(bit_string_list))"
   ]
  },
  {
   "cell_type": "code",
   "execution_count": 5,
   "metadata": {},
   "outputs": [],
   "source": [
    "ar1row = 256\n",
    "ar1col = 16\n",
    "array1 = np.zeros((ar1row,ar1col))\n",
    "len_shiftreg = (67+1)*16+4\n",
    "len_bits = len(bit_string)\n",
    "len_dnn = (255-100)*16+4*3\n",
    "\n",
    "# fake numbers for shift register and dnn parts of the array\n",
    "shiftreg = [0]*len_shiftreg\n",
    "dnn = [0]*len_dnn\n",
    "\n",
    "array1_flat = array1.flatten()\n",
    "\n",
    "i = 0\n",
    "for row in range(ar1row):\n",
    "    for col in range(ar1col):\n",
    "        if i < len_shiftreg:\n",
    "            array1[row,col] = shiftreg[i]\n",
    "        elif len_shiftreg <= i < len_shiftreg + len_bits:\n",
    "            array1[row, col] = bit_string[i - len_shiftreg]\n",
    "        elif i >= len_shiftreg+len_bits:\n",
    "            array1[row, col] = dnn[i - (len_shiftreg+len_bits)]\n",
    "        i+=1"
   ]
  },
  {
   "cell_type": "code",
   "execution_count": 9,
   "metadata": {},
   "outputs": [
    {
     "name": "stdout",
     "output_type": "stream",
     "text": [
      "(256, 16)\n"
     ]
    }
   ],
   "source": [
    "print(np.shape(array1))"
   ]
  }
 ],
 "metadata": {
  "kernelspec": {
   "display_name": "Python 3",
   "language": "python",
   "name": "python3"
  },
  "language_info": {
   "codemirror_mode": {
    "name": "ipython",
    "version": 3
   },
   "file_extension": ".py",
   "mimetype": "text/x-python",
   "name": "python",
   "nbconvert_exporter": "python",
   "pygments_lexer": "ipython3",
   "version": "3.9.18"
  }
 },
 "nbformat": 4,
 "nbformat_minor": 2
}
