{
 "cells": [
  {
   "cell_type": "markdown",
   "metadata": {},
   "source": [
    "Goal is to translate data from Pixelav (which comes in the form of 8x32 array) into something the board can understand (string of bits 00, 01, 10, 11 that corresponds to different charge thresholds). Then want to map it into array1.\n",
    "\\\n",
    "\\\n",
    "**questions:**\n",
    "- what are the different arrays 0,1,2 / what are we planning on filling them with \n",
    "- how do you take a time stamp? i don't actually know what pixelav is putting out so i don't know where that comes from"
   ]
  },
  {
   "cell_type": "markdown",
   "metadata": {},
   "source": [
    "pixelav: 0:3 y, 0:15 x (8x32 --> 256 pixels). then each pixel goes to 2 bits which classify its charge. "
   ]
  },
  {
   "cell_type": "markdown",
   "metadata": {},
   "source": [
    "**mapping the (fake) pixelav output onto the ideal size (13x21-->8x32).** there are a couple ways to do this. we could take all the non-zero cluster information and just stick it in the center of the 8x32 array, but we aren't sure yet how/if this translation would affect the ultimate results. for now, i'm going to just truncate the values from the top and bottom rows (2 from the top and 3 from the bottom) and pad the extra columns of the pixelav output with zeros so that it fits into the 8x32 framework. i will also work in some \"overflow\" in case we accidentally chop off a part of a cluster, where i will add any data from the \"chopped\" pixels to the first row that we keep"
   ]
  },
  {
   "cell_type": "code",
   "execution_count": 1,
   "metadata": {},
   "outputs": [],
   "source": [
    "import numpy as np\n",
    "import matplotlib.pyplot as plt\n",
    "import pandas as pd"
   ]
  },
  {
   "cell_type": "code",
   "execution_count": 2,
   "metadata": {},
   "outputs": [],
   "source": [
    "final_size = (8,32)\n",
    "thresh0 = 400\n",
    "thresh1 = 1600\n",
    "thresh2 = 2400"
   ]
  },
  {
   "cell_type": "code",
   "execution_count": 3,
   "metadata": {},
   "outputs": [],
   "source": [
    "def reshape_pixelav(cluster, cluster_id):\n",
    "    \"\"\"\n",
    "    Inputs: 13x21 array from Pixelav, labelled with the time slice\n",
    "    Outputs: 8x32 array with (hopefully) the same data which can be fed into Array1\n",
    "    \n",
    "    Truncates original rows on top and bottom and adds zeros to the extra columns on the right in order to fit 8x32 shape. \n",
    "    To avoid accidentally truncating data, we add the values of each deleted pixel to the nearest row. For example, since \n",
    "    cut off row 12, if there were any charge in that row it would be added to the same column in row 9, which is the last\n",
    "    column we save. A message will appear if this happens.\n",
    "    \"\"\"\n",
    "    # truncating and overflow\n",
    "    pixelav_row = np.shape(cluster)[0]\n",
    "    pixelav_col = np.shape(cluster)[1]\n",
    "    chop_start = 1\n",
    "    chop_stop = 9\n",
    "    overflow_top = np.zeros(pixelav_col)\n",
    "    overflow_bottom = np.zeros(pixelav_col)\n",
    "    for col in range(pixelav_col):\n",
    "        for row in range(chop_start):\n",
    "            overflow_top[col] += cluster[row, col]\n",
    "        for row in range(chop_stop + 1, pixelav_row):\n",
    "            overflow_bottom[col] += cluster[row, col]\n",
    "    cluster[chop_start, :] += overflow_top\n",
    "    cluster[chop_stop, :] += overflow_bottom\n",
    "    chop_cluster = cluster[chop_start:chop_stop, :]\n",
    "\n",
    "    if np.any(overflow_top) or np.any(overflow_bottom):\n",
    "        print(f\"Overflow detected at {cluster_id}ns:\")\n",
    "        if np.any(overflow_top):\n",
    "            print(f\"  Top overflow: {overflow_top}\")\n",
    "        if np.any(overflow_bottom):\n",
    "            print(f\"  Bottom overflow: {overflow_bottom}\")     \n",
    "\n",
    "    #padding\n",
    "    final_input = np.zeros(final_size)\n",
    "    final_input[:, :chop_cluster.shape[1]] = chop_cluster\n",
    "    return final_input"
   ]
  },
  {
   "cell_type": "code",
   "execution_count": 4,
   "metadata": {},
   "outputs": [],
   "source": [
    "def make_bit_string(final_input):\n",
    "    \"\"\"\n",
    "    Inputs: Reshaped 8x32 array of Pixelav data\n",
    "    Outputs: String of bits in (hopefully) correct order, ready to go into Array 1\n",
    "    \"\"\"\n",
    "    big_row_start= 0\n",
    "    pixel_data = []\n",
    "    while big_row_start < 8:\n",
    "        for column in reversed(range(32)):\n",
    "            for mini_row in range(2):\n",
    "                row = mini_row + big_row_start\n",
    "                charge = final_input[row, column]\n",
    "                if charge <= thresh0: \n",
    "                    label = \"00\"\n",
    "                elif thresh0 < charge < thresh1:\n",
    "                    label = \"01\"\n",
    "                elif thresh1 < charge < thresh2:\n",
    "                    label = \"10\"\n",
    "                else:\n",
    "                    label = \"11\"\n",
    "                pixel_data.append(label)\n",
    "        big_row_start += 2\n",
    "    bit_string = ''.join(reversed(pixel_data))\n",
    "    return bit_string"
   ]
  },
  {
   "cell_type": "code",
   "execution_count": 5,
   "metadata": {},
   "outputs": [],
   "source": [
    "def make_array1(bit_string):\n",
    "    ar1row = 256\n",
    "    ar1col = 16\n",
    "    array1 = np.zeros((ar1row,ar1col))\n",
    "    len_shiftreg = (68+1)*16+4\n",
    "    len_bits = len(bit_string)\n",
    "    len_dnn = (256-100)*16+4*3\n",
    "\n",
    "    # fake numbers for shift register and dnn parts of the array\n",
    "    shiftreg = [0]*len_shiftreg\n",
    "    dnn = [0]*len_dnn\n",
    "\n",
    "    i=0\n",
    "    for row in range(ar1row):\n",
    "        for col in reversed(range(ar1col)):\n",
    "            if i < len_shiftreg:\n",
    "                array1[row,col] = shiftreg[i]\n",
    "            elif len_shiftreg <= i < len_shiftreg + len_bits:\n",
    "                array1[row, col] = bit_string[i - len_shiftreg]\n",
    "            elif i >= len_shiftreg+len_bits:\n",
    "                array1[row, col] = dnn[i - (len_shiftreg+len_bits)]\n",
    "            i += 1\n",
    "    return array1"
   ]
  },
  {
   "cell_type": "code",
   "execution_count": 6,
   "metadata": {},
   "outputs": [
    {
     "name": "stdout",
     "output_type": "stream",
     "text": [
      "(28127, 13) (28127, 273) (28127, 5460)\n"
     ]
    }
   ],
   "source": [
    "# using eliza's BIB parquet file as a sample pixelav output\n",
    "truth = pd.read_parquet('labelsBIBtracks.parquet')\n",
    "recon2d = pd.read_parquet('recon2DBIBtracks.parquet')\n",
    "recon3d = pd.read_parquet('recon3DBIBtracks.parquet')\n",
    "print(truth.shape, recon2d.shape, recon3d.shape)"
   ]
  },
  {
   "cell_type": "code",
   "execution_count": 7,
   "metadata": {},
   "outputs": [],
   "source": [
    "array1_list = []\n",
    "for time_idx in range(20):\n",
    "    clusterSlice = recon3d.iloc[50].to_numpy().reshape(20,13,21)[time_idx]\n",
    "    time_label = 200*time_idx + 200\n",
    "    final_in = reshape_pixelav(clusterSlice, time_label) \n",
    "    bit_string = make_bit_string(final_in)\n",
    "    array = make_array1(bit_string)\n",
    "    array1_list.append(array)"
   ]
  }
 ],
 "metadata": {
  "kernelspec": {
   "display_name": "Python 3",
   "language": "python",
   "name": "python3"
  },
  "language_info": {
   "codemirror_mode": {
    "name": "ipython",
    "version": 3
   },
   "file_extension": ".py",
   "mimetype": "text/x-python",
   "name": "python",
   "nbconvert_exporter": "python",
   "pygments_lexer": "ipython3",
   "version": "3.9.18"
  }
 },
 "nbformat": 4,
 "nbformat_minor": 2
}
