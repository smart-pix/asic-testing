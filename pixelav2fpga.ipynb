{
 "cells": [
  {
   "cell_type": "markdown",
   "metadata": {},
   "source": [
    "Goal is to translate data from Pixelav (which comes in the form of 8x32 array) into something the board can understand (string of bits 00, 01, 10, 11 that corresponds to different charge thresholds). Then want to map it into array2.\n",
    "\\\n",
    "pixelav: 0:3 y, 0:15 x (8x32 --> 256 pixels). then each pixel goes to 2 bits which classify its charge.  \n",
    "\\\n",
    "We realized that the current pixelav output is actually **13x21**, not **8x32**, so we are truncating values from the top and bottom rows of the original shape and padding with zeroes where we need in order to reshape the array.  \n",
    "\\\n",
    "I'm currently using example parquet files form Eliza in order to structure this script. Thse files have 28127 clusters, each with 20 13x21 arrays (one every 200ps until 4ns)."
   ]
  },
  {
   "cell_type": "code",
   "execution_count": 3,
   "metadata": {},
   "outputs": [],
   "source": [
    "import numpy as np\n",
    "import matplotlib.pyplot as plt\n",
    "import pandas as pd\n",
    "import random\n",
    "from matplotlib.colors import ListedColormap, BoundaryNorm\n",
    "import matplotlib.colors as mcolors\n",
    "import matplotlib.patches as mpatches"
   ]
  },
  {
   "cell_type": "code",
   "execution_count": 4,
   "metadata": {},
   "outputs": [],
   "source": [
    "final_size = (8,32)\n",
    "thresh0 = 400\n",
    "thresh1 = 1600\n",
    "thresh2 = 2400\n",
    "\n",
    "#for plotting\n",
    "cmap = plt.get_cmap('viridis', 5) \n",
    "norm = mcolors.BoundaryNorm(boundaries=np.arange(-0.5, 5.5, 1), ncolors=cmap.N)\n",
    "legend_labels = ['N/A', '00', '01', '10', '11']\n",
    "colors = [cmap(norm(i)) for i in range(5)]"
   ]
  },
  {
   "cell_type": "code",
   "execution_count": 50,
   "metadata": {},
   "outputs": [],
   "source": [
    "def make_bit_string(final_input, cluster_id=None, time_id=None, image_cluster=True):\n",
    "    \"\"\"\n",
    "    Inputs: Reshaped 8x32 array of Pixelav data (or directly a 21x13 array if selecting reshape=True)\n",
    "    If reshaping: \n",
    "        Inputs: 13x21 array from Pixelav, labelled with the time slice\n",
    "        Outputs: 8x32 array with (hopefully) the same data which can be fed into Array2. \n",
    "        Truncates original rows on top and bottom and adds zeros to the extra columns on the right in order to fit 8x32 \n",
    "        shape. To avoid accidentally truncating data, we add the values of each deleted pixel to the nearest row. For \n",
    "        example, since we cut off row 12, if there were any charge in that row it would be added to the same column \n",
    "        in row 9, which is the last column we save. A message will appear if this happens.\n",
    "    Outputs: String of bits in (hopefully) correct order (string should start with LSB, going RT-RB-LT-LB and end with \n",
    "    MSB), ready to go into Array 2\n",
    "    \"\"\"\n",
    "    def classify_pixel_value(charge):\n",
    "        if charge <= thresh0: \n",
    "            return \"00\", 1\n",
    "        elif thresh0 < charge < thresh1:\n",
    "            return \"01\", 2\n",
    "        elif thresh1 < charge < thresh2:\n",
    "            return \"10\", 3\n",
    "        else:\n",
    "            return \"11\", 4\n",
    "\n",
    "    if final_input.shape != (8, 32):\n",
    "        pixelav_row = np.shape(final_input)[0]\n",
    "        pixelav_col = np.shape(final_input)[1]\n",
    "\n",
    "        if image_cluster:\n",
    "            original_heatmap = np.zeros((pixelav_row, pixelav_col))\n",
    "            for row in range(pixelav_row):\n",
    "                for col in range(pixelav_col):\n",
    "                    charge = final_input[row, col]\n",
    "                    _, colorval = classify_pixel_value(charge)\n",
    "                    original_heatmap[row, col] = colorval\n",
    "\n",
    "            fig, ax = plt.subplots(figsize=(3, 3))\n",
    "            cmap = plt.get_cmap('viridis', 4)\n",
    "            norm = mcolors.BoundaryNorm(boundaries=np.arange(-0.5, 4.5, 1), ncolors=cmap.N)\n",
    "\n",
    "            cax = ax.imshow(original_heatmap, cmap=cmap, interpolation='none', aspect='auto', vmin=1, vmax=4)\n",
    "            legend_labels = ['00', '01', '10', '11']\n",
    "            colors = [cmap(norm(i)) for i in range(4)]\n",
    "            patches = [mpatches.Patch(color=colors[i], label=legend_labels[i]) for i in range(4)]\n",
    "            ax.legend(handles=patches, bbox_to_anchor=(1.05, 1), loc='upper left', borderaxespad=0.)\n",
    "            \n",
    "            ax.set_xticks(np.arange(-0.5, 21, 1), minor=True)\n",
    "            ax.set_yticks(np.arange(-0.5, 13, 1), minor=True)\n",
    "            ax.grid(which='minor', color='w', linestyle='-', linewidth=0.5)\n",
    "            ax.tick_params(which='minor', size=0)\n",
    "            ax.set_title('Original 13x21 Cluster, Before Reshaping')\n",
    "            plt.show()\n",
    "            \n",
    "\n",
    "        chop_start = 1\n",
    "        chop_stop = 9\n",
    "        overflow_top = np.zeros(pixelav_col)\n",
    "        overflow_bottom = np.zeros(pixelav_col)\n",
    "        for col in range(pixelav_col):\n",
    "            for row in range(chop_start):\n",
    "                overflow_top[col] += final_input[row, col]\n",
    "            for row in range(chop_stop + 1, pixelav_row):\n",
    "                overflow_bottom[col] += final_input[row, col]\n",
    "        final_input[chop_start, :] += overflow_top\n",
    "        final_input[chop_stop, :] += overflow_bottom\n",
    "        chop_cluster = final_input[chop_start:chop_stop, :]\n",
    "\n",
    "        if np.any(overflow_top) or np.any(overflow_bottom):\n",
    "            print(f\"RESHAPING: Overflow detected in cluster {cluster_id} at {time_id}ps:\")\n",
    "            if np.any(overflow_top):\n",
    "                print(f\"  Top overflow: {overflow_top}\")\n",
    "            if np.any(overflow_bottom):\n",
    "                print(f\"  Bottom overflow: {overflow_bottom}\")     \n",
    "\n",
    "        #padding\n",
    "        final_input = np.zeros(final_size)\n",
    "        final_input[:, :chop_cluster.shape[1]] = chop_cluster\n",
    "    \n",
    "    big_row_start= 0\n",
    "    pixel_data = []\n",
    "    heatmap = np.zeros((8,32))\n",
    "    while big_row_start < 8:\n",
    "        for column in reversed(range(32)):\n",
    "            for mini_row in range(2):\n",
    "                row = mini_row + big_row_start\n",
    "                charge = final_input[row, column]\n",
    "                label, colorval = classify_pixel_value(charge)\n",
    "                pixel_data.append(label)\n",
    "                heatmap[row, column] = colorval\n",
    "        big_row_start += 2\n",
    "    bit_string = ''.join(pixel_data)\n",
    "\n",
    "    if image_cluster:\n",
    "        fig, ax = plt.subplots(figsize=(3, 3))\n",
    "        cmap = plt.get_cmap('viridis', 4)\n",
    "        norm = mcolors.BoundaryNorm(boundaries=np.arange(-0.5, 4.5, 1), ncolors=cmap.N)\n",
    "\n",
    "        cax = ax.imshow(heatmap, cmap=cmap, interpolation='none', aspect='auto', vmin=1, vmax=4)\n",
    "        legend_labels = ['00', '01', '10', '11']\n",
    "        colors = [cmap(norm(i)) for i in range(4)]\n",
    "        patches = [mpatches.Patch(color=colors[i], label=legend_labels[i]) for i in range(4)]\n",
    "        ax.legend(handles=patches, bbox_to_anchor=(1.05, 1), loc='upper left', borderaxespad=0.)\n",
    "        \n",
    "        ax.set_xticks(np.arange(-0.5, 32, 1), minor=True)\n",
    "        ax.set_yticks(np.arange(-0.5, 8, 1), minor=True)\n",
    "        ax.grid(which='minor', color='w', linestyle='-', linewidth=0.5)\n",
    "        #ax.tick_params(which='minor', size=0)\n",
    "        ax.set_title('Cluster Plot')\n",
    "        plt.show()\n",
    "        \n",
    "    return bit_string"
   ]
  },
  {
   "cell_type": "code",
   "execution_count": 45,
   "metadata": {},
   "outputs": [],
   "source": [
    "ar2row = 256\n",
    "ar2col = 16\n",
    "array2 = np.zeros((ar2row,ar2col))\n",
    "len_w2_f2 = (104*16)+8\n",
    "len_bits = (8*32)*2\n",
    "\n",
    "# fake numbers for shift register and dnn parts of the array\n",
    "w2_f2 = [0]*len_w2_f2\n",
    "unused = [0]*((256*16)-len_w2_f2-len_bits)\n",
    "\n",
    "def make_array2(bit_string, image_array=True):\n",
    "    heatmap = np.zeros((ar2row, ar2col))\n",
    "    i=0\n",
    "    for row in range(ar2row):\n",
    "        for col in reversed(range(ar2col)):\n",
    "            if i < len_w2_f2: \n",
    "                array2[row,col] = w2_f2[i]\n",
    "                heatmap[row, col] = 0\n",
    "            elif len_w2_f2 <= i < len_w2_f2 + len(bit_string): \n",
    "                label = bit_string[(i - len_w2_f2)*2: (i - len_w2_f2)*2 + 2] # x2 to avoid double counting\n",
    "                array2[row, col] = int(bit_string[i - len_w2_f2])\n",
    "                if label == \"00\":\n",
    "                    colorval = 1\n",
    "                elif label == \"01\":\n",
    "                    colorval = 2\n",
    "                elif label == \"10\":\n",
    "                    colorval = 3\n",
    "                elif label == \"11\":\n",
    "                    colorval = 4\n",
    "                heatmap[row, col] = colorval\n",
    "            elif i >= len_w2_f2+len_bits:\n",
    "                array2[row, col] = unused[i - (len_w2_f2+len(bit_string))]\n",
    "                heatmap[row, col] = 0\n",
    "            i += 1\n",
    "    \n",
    "    if image_array:\n",
    "        focused_heatmap = heatmap[103:137, :]\n",
    "        fig, ax = plt.subplots(figsize=(5, 5))\n",
    "        cax = ax.imshow(focused_heatmap, cmap=cmap, interpolation='none', aspect='auto', vmin=0, vmax=4)\n",
    "        patches = [mpatches.Patch(color=colors[i], label=legend_labels[i]) for i in range(5)]\n",
    "        ax.legend(handles=patches, bbox_to_anchor=(1.05, 1), loc='upper left', borderaxespad=0.)\n",
    "        \n",
    "        ax.set_xticks(np.arange(-0.5, focused_heatmap.shape[1], 1), minor=True)\n",
    "        ax.set_yticks(np.arange(-0.5, focused_heatmap.shape[0], 1), minor=True)\n",
    "        ax.grid(which='minor', color='w', linestyle='-', linewidth=0.5)\n",
    "        ax.tick_params(which='minor', size=0)\n",
    "\n",
    "        ax.set_title('Bit Values Section of Array2')\n",
    "        plt.show()\n",
    "        \n",
    "    return array2"
   ]
  },
  {
   "cell_type": "markdown",
   "metadata": {},
   "source": [
    "Example using one of Eliza's BIB parquet files"
   ]
  },
  {
   "cell_type": "code",
   "execution_count": 9,
   "metadata": {},
   "outputs": [
    {
     "name": "stdout",
     "output_type": "stream",
     "text": [
      "(28127, 13) (28127, 273) (28127, 5460)\n"
     ]
    }
   ],
   "source": [
    "# using eliza's BIB parquet file as a sample pixelav output\n",
    "truth = pd.read_parquet('labelsBIBtracks.parquet')\n",
    "recon2d = pd.read_parquet('recon2DBIBtracks.parquet')\n",
    "recon3d = pd.read_parquet('recon3DBIBtracks.parquet')\n",
    "print(truth.shape, recon2d.shape, recon3d.shape)"
   ]
  },
  {
   "cell_type": "code",
   "execution_count": 51,
   "metadata": {},
   "outputs": [
    {
     "data": {
      "image/png": "[encoded data removed]",
      "text/plain": [
       "<Figure size 300x300 with 1 Axes>"
      ]
     },
     "metadata": {},
     "output_type": "display_data"
    },
    {
     "name": "stdout",
     "output_type": "stream",
     "text": [
      "RESHAPING: Overflow detected in cluster 0 at 2000ps:\n",
      "  Top overflow: [   0.    0.    0.    0.    0.    0.    0.    0.    0.    9. 2278.    0.\n",
      "    0.    0.    0.    0.    0.    0.    0.    0.    0.]\n",
      "  Bottom overflow: [   0.    0.    0.    0.    0.    0.    0. 3114. 1416.    0.    0.    0.\n",
      "    0.    0.    0.    0.    0.    0.    0.    0.    0.]\n"
     ]
    },
    {
     "data": {
      "image/png": "[encoded data removed]",
      "text/plain": [
       "<Figure size 300x300 with 1 Axes>"
      ]
     },
     "metadata": {},
     "output_type": "display_data"
    },
    {
     "data": {
      "image/png": "[encoded data removed]",
      "text/plain": [
       "<Figure size 500x500 with 1 Axes>"
      ]
     },
     "metadata": {},
     "output_type": "display_data"
    }
   ],
   "source": [
    "clusterSlice_ex = recon3d.iloc[0].to_numpy().reshape(20,13,21)[9]\n",
    "time_label_ex = 200*9+200\n",
    "#final_in_ex = reshape_pixelav(clusterSlice_ex, 0, time_label_ex)\n",
    "bitstring_ex = make_bit_string(clusterSlice_ex, 0, time_label_ex)\n",
    "array2_ex = make_array2(bitstring_ex)"
   ]
  },
  {
   "cell_type": "markdown",
   "metadata": {},
   "source": [
    "**Scan chain to Shift Register conversion:**  \n",
    "The Shift Register data is a series of 2-bit representations per pixel that starts in the top right corner of the array (figure 5) and goes RT-RB-LT-LB. Meanwhile, the Scan Chain takes 3 bits per pixel (will add this transition soon), starts with the right side of the array (pixel 63), and goes in a LB-RB-RT-LT order. This code will translate between those two formats so that we can tell which spot in the array is coming from which pixel. \n",
    " "
   ]
  },
  {
   "cell_type": "code",
   "execution_count": null,
   "metadata": {},
   "outputs": [],
   "source": [
    "test_string = [0]*512\n",
    "test_string[0], test_string[-1] = 1, 1\n",
    "test_string = ''.join(map(str, test_string))\n",
    "\n",
    "def shiftreg_to_scanchain(bit_string):\n",
    "    big_row_len = 16*2*2*2\n",
    "    row_len = int(big_row_len/2)\n",
    "    big_row_start = 0\n",
    "    scanchain_map = []\n",
    "    while big_row_start < big_row_len*4:\n",
    "        section_row0 = bit_string[big_row_start:(big_row_start + row_len)][::-1]\n",
    "        section_row1 = bit_string[big_row_start+row_len:big_row_start+row_len*2][::-1]\n",
    "\n",
    "        move_right = 0\n",
    "        while move_right < 64:\n",
    "            idx = 0 + move_right\n",
    "            lb = section_row1[idx] + section_row1[idx+1]\n",
    "            rb = section_row1[idx+2] + section_row1[idx+3]\n",
    "            rt = section_row0[idx+2] + section_row0[idx+3]\n",
    "            lt = section_row0[idx] + section_row0[idx+1]\n",
    "\n",
    "            square = lb + rb + rt + lt\n",
    "            scanchain_map.append(square)\n",
    "            move_right += 4\n",
    "        big_row_start += big_row_len\n",
    "    scanchain_map = ''.join(scanchain_map)\n",
    "    \n",
    "    # assuming thresholds are the same as in the 2-bit version \n",
    "    scanchain_map_final = []\n",
    "    for i in range(0, len(scanchain_map), 2):\n",
    "        pixel = scanchain_map[i]+scanchain_map[i+1]\n",
    "        if pixel == '00':\n",
    "            newpixel = '000'\n",
    "        elif pixel == '01':\n",
    "            newpixel = '001'\n",
    "        elif pixel == '10':\n",
    "            newpixel = '011'\n",
    "        else:\n",
    "            newpixel = '111'\n",
    "        scanchain_map_final.append(newpixel)\n",
    "    return(''.join(scanchain_map_final))"
   ]
  }
 ],
 "metadata": {
  "kernelspec": {
   "display_name": "Python 3",
   "language": "python",
   "name": "python3"
  },
  "language_info": {
   "codemirror_mode": {
    "name": "ipython",
    "version": 3
   },
   "file_extension": ".py",
   "mimetype": "text/x-python",
   "name": "python",
   "nbconvert_exporter": "python",
   "pygments_lexer": "ipython3",
   "version": "3.9.18"
  }
 },
 "nbformat": 4,
 "nbformat_minor": 2
}
